{
  "nbformat": 4,
  "nbformat_minor": 0,
  "metadata": {
    "colab": {
      "provenance": [],
      "authorship_tag": "ABX9TyNSL+eYNMnspRKZHHUu/FWP",
      "include_colab_link": true
    },
    "kernelspec": {
      "name": "python3",
      "display_name": "Python 3"
    },
    "language_info": {
      "name": "python"
    }
  },
  "cells": [
    {
      "cell_type": "markdown",
      "metadata": {
        "id": "view-in-github",
        "colab_type": "text"
      },
      "source": [
        "<a href=\"https://colab.research.google.com/github/Sarav-J/231801158_PODS/blob/main/Numpy.ipynb\" target=\"_parent\"><img src=\"https://colab.research.google.com/assets/colab-badge.svg\" alt=\"Open In Colab\"/></a>"
      ]
    },
    {
      "cell_type": "code",
      "execution_count": null,
      "metadata": {
        "colab": {
          "base_uri": "https://localhost:8080/"
        },
        "id": "bczv8KwKXTJ4",
        "outputId": "d1591779-d7d8-4276-d9c9-d580bc162404"
      },
      "outputs": [
        {
          "output_type": "stream",
          "name": "stdout",
          "text": [
            "[1 2 3 4 5]\n"
          ]
        }
      ],
      "source": [
        "import numpy as np\n",
        "arr = np.array([1, 2, 3, 4, 5])\n",
        "print(arr)"
      ]
    },
    {
      "cell_type": "code",
      "source": [
        "my_arr=np.arange(10)\n",
        "print(my_arr)\n",
        "print(type(my_arr))"
      ],
      "metadata": {
        "colab": {
          "base_uri": "https://localhost:8080/"
        },
        "id": "ObhCeRVSXfcO",
        "outputId": "b78a5e8a-187e-40e3-a02a-e5f11b584d19"
      },
      "execution_count": null,
      "outputs": [
        {
          "output_type": "stream",
          "name": "stdout",
          "text": [
            "[0 1 2 3 4 5 6 7 8 9]\n",
            "<class 'numpy.ndarray'>\n"
          ]
        }
      ]
    },
    {
      "cell_type": "code",
      "source": [
        "my_list = list(range(10))\n",
        "print(my_list)\n",
        "print(type(my_list))"
      ],
      "metadata": {
        "colab": {
          "base_uri": "https://localhost:8080/"
        },
        "id": "U3HRHDQKXwbm",
        "outputId": "547cbb77-c85c-4722-d8f7-24a28dd84e60"
      },
      "execution_count": null,
      "outputs": [
        {
          "output_type": "stream",
          "name": "stdout",
          "text": [
            "[0, 1, 2, 3, 4, 5, 6, 7, 8, 9]\n",
            "<class 'list'>\n"
          ]
        }
      ]
    },
    {
      "cell_type": "code",
      "source": [
        "import numpy as np\n",
        "import sys\n",
        "S=range(1000)\n",
        "print(\"Size of each element of list in bytes: \",sys.getsizeof(S))\n",
        "print(\"Size of the whole list in bytes: \",sys.getsizeof(S)*len(S))\n",
        "D=np.arange(1000)\n",
        "print(\"Size of each element of the Numpy array in bytes: \",D.itemsize)\n",
        "print(\"Size of the whole Numpy array in bytes: \",D.size*D.itemsize)\n",
        "print(type(S))\n",
        "print(type(D))"
      ],
      "metadata": {
        "colab": {
          "base_uri": "https://localhost:8080/"
        },
        "id": "oMxnctZrXzrU",
        "outputId": "db3c5d4c-5c3e-453d-9588-0b41dbeaea3c"
      },
      "execution_count": null,
      "outputs": [
        {
          "output_type": "stream",
          "name": "stdout",
          "text": [
            "Size of each element of list in bytes:  48\n",
            "Size of the whole list in bytes:  48000\n",
            "Size of each element of the Numpy array in bytes:  8\n",
            "Size of the whole Numpy array in bytes:  8000\n",
            "<class 'range'>\n",
            "<class 'numpy.ndarray'>\n"
          ]
        }
      ]
    },
    {
      "cell_type": "code",
      "source": [
        "arr=np.array(42)\n",
        "print(arr)"
      ],
      "metadata": {
        "colab": {
          "base_uri": "https://localhost:8080/"
        },
        "id": "2trVCaquZKJA",
        "outputId": "951e9698-167c-4665-f7b2-ae044e5fa325"
      },
      "execution_count": null,
      "outputs": [
        {
          "output_type": "stream",
          "name": "stdout",
          "text": [
            "42\n"
          ]
        }
      ]
    },
    {
      "cell_type": "code",
      "source": [
        "import numpy as np\n",
        "arr = np.array([1, 2, 3, 4, 5])\n",
        "print(arr)"
      ],
      "metadata": {
        "colab": {
          "base_uri": "https://localhost:8080/"
        },
        "id": "iHRf0x_nZqHt",
        "outputId": "fa5a2535-887f-4d4a-8569-764df01c6ad3"
      },
      "execution_count": null,
      "outputs": [
        {
          "output_type": "stream",
          "name": "stdout",
          "text": [
            "[1 2 3 4 5]\n"
          ]
        }
      ]
    },
    {
      "cell_type": "code",
      "source": [
        "arr = np.array([[1, 2, 3], [4, 5, 6]])\n",
        "print(arr)"
      ],
      "metadata": {
        "colab": {
          "base_uri": "https://localhost:8080/"
        },
        "id": "yeyj3uBLZu28",
        "outputId": "2823216c-db10-4ee3-f6ff-899ee34ab435"
      },
      "execution_count": null,
      "outputs": [
        {
          "output_type": "stream",
          "name": "stdout",
          "text": [
            "[[1 2 3]\n",
            " [4 5 6]]\n"
          ]
        }
      ]
    },
    {
      "cell_type": "code",
      "source": [
        "arr = np.array([[[1, 2, 3], [4, 5, 6]], [[1, 2, 3], [4, 5, 6]]])\n",
        "print(arr)"
      ],
      "metadata": {
        "colab": {
          "base_uri": "https://localhost:8080/"
        },
        "id": "Qa0fyDODZ138",
        "outputId": "f1163705-8b06-4f25-889c-716d864d6f9b"
      },
      "execution_count": null,
      "outputs": [
        {
          "output_type": "stream",
          "name": "stdout",
          "text": [
            "[[[1 2 3]\n",
            "  [4 5 6]]\n",
            "\n",
            " [[1 2 3]\n",
            "  [4 5 6]]]\n"
          ]
        }
      ]
    },
    {
      "cell_type": "code",
      "source": [
        "a = np.array(42)\n",
        "b = np.array([1, 2, 3, 4, 5])\n",
        "c = np.array([[1, 2, 3], [4, 5, 6]])\n",
        "d = np.array([[[1, 2, 3], [4, 5, 6]], [[1, 2, 3], [4, 5, 6]]])\n",
        "print(a.ndim)\n",
        "print(b.ndim)\n",
        "print(c.ndim)\n",
        "print(d.ndim)"
      ],
      "metadata": {
        "colab": {
          "base_uri": "https://localhost:8080/"
        },
        "id": "0xixdK6fZ4H8",
        "outputId": "a097a791-cf85-46b8-a2f0-fe741b067118"
      },
      "execution_count": null,
      "outputs": [
        {
          "output_type": "stream",
          "name": "stdout",
          "text": [
            "0\n",
            "1\n",
            "2\n",
            "3\n"
          ]
        }
      ]
    },
    {
      "cell_type": "code",
      "source": [
        "arr=np.array([1,2,3,4],ndmin=5)\n",
        "print(arr)\n",
        "print('number of dimension :',arr.ndim)\n"
      ],
      "metadata": {
        "colab": {
          "base_uri": "https://localhost:8080/"
        },
        "id": "nvdxYTvqZ53N",
        "outputId": "b95acea9-f11b-4dbd-a1fb-27a3597eadf6"
      },
      "execution_count": null,
      "outputs": [
        {
          "output_type": "stream",
          "name": "stdout",
          "text": [
            "[[[[[1 2 3 4]]]]]\n",
            "number of dimension : 5\n"
          ]
        }
      ]
    },
    {
      "cell_type": "code",
      "source": [
        "data = np.array([[1.5, -0.1, 3], [0, -3, 6.5]])\n",
        "print(\"Shape= \",data.shape)\n",
        "print(\"Type= \",data.dtype)\n",
        "print(\"Data = \", data)\n",
        "print(\"\\nAns1 = \",data * 10)\n",
        "print(\"\\nAns2= \",data+data)"
      ],
      "metadata": {
        "colab": {
          "base_uri": "https://localhost:8080/"
        },
        "id": "-UV8Hd9bbn2f",
        "outputId": "a4243e76-638d-4e39-cf4f-53dc37b55f7b"
      },
      "execution_count": null,
      "outputs": [
        {
          "output_type": "stream",
          "name": "stdout",
          "text": [
            "Shape=  (2, 3)\n",
            "Type=  float64\n",
            "Data =  [[ 1.5 -0.1  3. ]\n",
            " [ 0.  -3.   6.5]]\n",
            "\n",
            "Ans1 =  [[ 15.  -1.  30.]\n",
            " [  0. -30.  65.]]\n",
            "\n",
            "Ans2=  [[ 3.  -0.2  6. ]\n",
            " [ 0.  -6.  13. ]]\n"
          ]
        }
      ]
    },
    {
      "cell_type": "code",
      "source": [
        "my_list=[1,2,3,4,5]\n",
        "arr=np.array(my_list)\n",
        "print(type(arr))\n",
        "print(arr)\n",
        "print(\"\\n\",arr.dtype)"
      ],
      "metadata": {
        "colab": {
          "base_uri": "https://localhost:8080/"
        },
        "id": "P_yEP5brcIik",
        "outputId": "c1f94198-9754-40db-c057-1d0264bb02a4"
      },
      "execution_count": null,
      "outputs": [
        {
          "output_type": "stream",
          "name": "stdout",
          "text": [
            "<class 'numpy.ndarray'>\n",
            "[1 2 3 4 5]\n",
            "\n",
            " int64\n"
          ]
        }
      ]
    },
    {
      "cell_type": "code",
      "source": [
        "zeros_arr = np.zeros((5,2))\n",
        "eros_arr = np.zeros(5)\n",
        "print(zeros_arr)\n",
        "zeros_arr = np.zeros((2,3))\n",
        "print(zeros_arr)\n",
        "print(\"Data type of the array: \",zeros_arr.dtype)\n",
        "zeros_arr_int=np.zeros((3,3),dtype=np.int16)\n",
        "print(\"\\n Array of zeros with integer elements:\\n\",zeros_arr_int)"
      ],
      "metadata": {
        "colab": {
          "base_uri": "https://localhost:8080/"
        },
        "id": "uY6IMdT0cXWb",
        "outputId": "35dea6d8-fae7-4c28-a1cd-a81be5a36ad5"
      },
      "execution_count": null,
      "outputs": [
        {
          "output_type": "stream",
          "name": "stdout",
          "text": [
            "[[0. 0.]\n",
            " [0. 0.]\n",
            " [0. 0.]\n",
            " [0. 0.]\n",
            " [0. 0.]]\n",
            "[[0. 0. 0.]\n",
            " [0. 0. 0.]]\n",
            "Data type of the array:  float64\n",
            "\n",
            " Array of zeros with integer elements:\n",
            " [[0 0 0]\n",
            " [0 0 0]\n",
            " [0 0 0]]\n"
          ]
        }
      ]
    },
    {
      "cell_type": "code",
      "source": [
        "ones_arr = np.ones(6)\n",
        "print(ones_arr)\n",
        "ones_arr = np.ones((3,2,4)) # 3- depth, 2- rows, 4 -colums\n",
        "print(\"\\n\",ones_arr)\n",
        "print(\"\\n ndim= \",ones_arr.ndim)\n",
        "print(\"\\nData type of the array: \",ones_arr.dtype)\n",
        "ones_arr_int = np.ones((2,2), dtype=np.int16)\n",
        "print(\"\\nArray of ones with integer elements: \\n\",ones_arr_int)"
      ],
      "metadata": {
        "colab": {
          "base_uri": "https://localhost:8080/"
        },
        "id": "zE8_vUYrdJWg",
        "outputId": "25866e14-21b2-46a5-c1e0-652bcb8ed862"
      },
      "execution_count": null,
      "outputs": [
        {
          "output_type": "stream",
          "name": "stdout",
          "text": [
            "[1. 1. 1. 1. 1. 1.]\n",
            "\n",
            " [[[1. 1. 1. 1.]\n",
            "  [1. 1. 1. 1.]]\n",
            "\n",
            " [[1. 1. 1. 1.]\n",
            "  [1. 1. 1. 1.]]\n",
            "\n",
            " [[1. 1. 1. 1.]\n",
            "  [1. 1. 1. 1.]]]\n",
            "\n",
            " ndim=  3\n",
            "\n",
            "Data type of the array:  float64\n",
            "\n",
            "Array of ones with integer elements: \n",
            " [[1 1]\n",
            " [1 1]]\n"
          ]
        }
      ]
    },
    {
      "cell_type": "code",
      "source": [
        "empty_arr = np.empty((3,2))\n",
        "print(empty_arr)\n",
        "print(\"\\nData type of the array: \",empty_arr.dtype)"
      ],
      "metadata": {
        "colab": {
          "base_uri": "https://localhost:8080/"
        },
        "id": "OsmPHnVrdpkU",
        "outputId": "8f5444f4-f384-4675-f4b0-831251dfc7a6"
      },
      "execution_count": null,
      "outputs": [
        {
          "output_type": "stream",
          "name": "stdout",
          "text": [
            "[[1. 1.]\n",
            " [1. 1.]\n",
            " [1. 1.]]\n",
            "\n",
            "Data type of the array:  float64\n"
          ]
        }
      ]
    },
    {
      "cell_type": "code",
      "source": [
        "identity_matrix = np.eye(3)\n",
        "print(identity_matrix)\n",
        "identity_matrix=np.eye(4)\n",
        "print(\"\\n\",identity_matrix)"
      ],
      "metadata": {
        "colab": {
          "base_uri": "https://localhost:8080/"
        },
        "id": "Mz-5pnDsd2Fz",
        "outputId": "376844e4-172f-4ede-cc2d-96b05970b648"
      },
      "execution_count": null,
      "outputs": [
        {
          "output_type": "stream",
          "name": "stdout",
          "text": [
            "[[1. 0. 0.]\n",
            " [0. 1. 0.]\n",
            " [0. 0. 1.]]\n",
            "\n",
            " [[1. 0. 0. 0.]\n",
            " [0. 1. 0. 0.]\n",
            " [0. 0. 1. 0.]\n",
            " [0. 0. 0. 1.]]\n"
          ]
        }
      ]
    },
    {
      "cell_type": "code",
      "source": [
        "import numpy as np\n",
        "arr1 = np.array([1, 2, 3], dtype=np. float64)\n",
        "arr2 = np.array([1, 2, 3], dtype=np.int32)\n",
        "print(arr1.dtype)\n",
        "print(arr2.dtype)\n"
      ],
      "metadata": {
        "colab": {
          "base_uri": "https://localhost:8080/"
        },
        "id": "k1uh5aRHh1jF",
        "outputId": "55747914-7e84-4c83-8dfa-da812984bdf3"
      },
      "execution_count": null,
      "outputs": [
        {
          "output_type": "stream",
          "name": "stdout",
          "text": [
            "float64\n",
            "int32\n"
          ]
        }
      ]
    },
    {
      "cell_type": "code",
      "source": [
        "arr = np.array([1, 2, 3])\n",
        "print(\"Before converting: \", arr, arr.dtype)\n",
        "new_arr = arr.astype('f')\n",
        "print(\"After converting: \", new_arr, new_arr.dtype)\n"
      ],
      "metadata": {
        "colab": {
          "base_uri": "https://localhost:8080/"
        },
        "id": "jqpSaNa2i2T9",
        "outputId": "9ab6f4be-2fa5-4c5a-f58d-0595fcfac2f0"
      },
      "execution_count": null,
      "outputs": [
        {
          "output_type": "stream",
          "name": "stdout",
          "text": [
            "Before converting:  [1 2 3] int64\n",
            "After converting:  [1. 2. 3.] float32\n"
          ]
        }
      ]
    },
    {
      "cell_type": "code",
      "source": [
        "arr = np.array([1.1, 2.2, 3.3])\n",
        "print(\"Before converting: \", arr, arr.dtype)\n",
        "new_arr = arr.astype('i')\n",
        "print(\"After converting: \", new_arr, new_arr.dtype)"
      ],
      "metadata": {
        "colab": {
          "base_uri": "https://localhost:8080/"
        },
        "id": "8Xn6p1hni6Il",
        "outputId": "f927cd8b-800a-44cb-b375-56476ba52152"
      },
      "execution_count": null,
      "outputs": [
        {
          "output_type": "stream",
          "name": "stdout",
          "text": [
            "Before converting:  [1.1 2.2 3.3] float64\n",
            "After converting:  [1 2 3] int32\n"
          ]
        }
      ]
    },
    {
      "cell_type": "code",
      "source": [
        "import numpy as np\n",
        "arr = np.array(['1.1', '2.2', '-3.3'])\n",
        "print(\"Before converting: \", arr, arr.dtype)\n",
        "new_arr = arr.astype('f')\n",
        "print(\"After converting: \", new_arr, new_arr.dtype)"
      ],
      "metadata": {
        "colab": {
          "base_uri": "https://localhost:8080/"
        },
        "id": "wRfzPRTYi9mt",
        "outputId": "d51b3258-b516-4f73-b585-6e9d10f6a901"
      },
      "execution_count": null,
      "outputs": [
        {
          "output_type": "stream",
          "name": "stdout",
          "text": [
            "Before converting:  ['1.1' '2.2' '-3.3'] <U4\n",
            "After converting:  [ 1.1  2.2 -3.3] float32\n"
          ]
        }
      ]
    },
    {
      "cell_type": "code",
      "source": [
        "arr = np.array(['1.1', '2.2', 'abc'])\n",
        "print(\"Before converting: \", arr, arr.dtype)\n",
        "try:\n",
        "  new_arr = arr.astype (np. float64)\n",
        "  print(\"After converting: \", new_arr, new_arr.dtype)\n",
        "except ValueError as e:\n",
        "  print(\"Conversion failed: \", e)\n"
      ],
      "metadata": {
        "colab": {
          "base_uri": "https://localhost:8080/"
        },
        "id": "-86Z3lGxjAk8",
        "outputId": "d5565289-dcdc-4d01-c9ad-b16827987a8a"
      },
      "execution_count": null,
      "outputs": [
        {
          "output_type": "stream",
          "name": "stdout",
          "text": [
            "Before converting:  ['1.1' '2.2' 'abc'] <U3\n",
            "Conversion failed:  could not convert string to float: np.str_('abc')\n"
          ]
        }
      ]
    },
    {
      "cell_type": "code",
      "source": [
        "arr1 = np.arange(10)\n",
        "arr2 = np.random. randn (10)\n",
        "print(\"array 1\\n\", arr1, arr1.dtype)\n",
        "print(\"Array 2 \\n\", arr2, arr2.dtype)\n",
        "new_arr = arr1.astype (arr2.dtype)\n",
        "print(\"New Array \\n\", new_arr, new_arr.dtype)"
      ],
      "metadata": {
        "colab": {
          "base_uri": "https://localhost:8080/"
        },
        "id": "rDSkQxuxjAq8",
        "outputId": "8a8bb3ca-ba89-4f94-f5ef-d5d0601d2f45"
      },
      "execution_count": null,
      "outputs": [
        {
          "output_type": "stream",
          "name": "stdout",
          "text": [
            "array 1\n",
            " [0 1 2 3 4 5 6 7 8 9] int64\n",
            "Array 2 \n",
            " [-1.66811799 -0.00752876 -0.37591697  0.7113991  -0.18891834  1.11854184\n",
            "  0.61655905 -0.23283058  1.139259   -0.17865964] float64\n",
            "New Array \n",
            " [0. 1. 2. 3. 4. 5. 6. 7. 8. 9.] float64\n"
          ]
        }
      ]
    },
    {
      "cell_type": "code",
      "source": [
        "str_arr = np.array(['hello', 'world', 'numpy'])\n",
        "print(str_arr)"
      ],
      "metadata": {
        "id": "efU4VJWsjcjN",
        "outputId": "cad1bd12-5c53-4d64-ee1c-6ac7d09a6580",
        "colab": {
          "base_uri": "https://localhost:8080/"
        }
      },
      "execution_count": null,
      "outputs": [
        {
          "output_type": "stream",
          "name": "stdout",
          "text": [
            "['hello' 'world' 'numpy']\n"
          ]
        }
      ]
    }
  ]
}